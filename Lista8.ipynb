{
 "cells": [
  {
   "cell_type": "markdown",
   "metadata": {},
   "source": [
    "## NOME: Álvaro Kothe\n",
    "## Matrícula: 170004694"
   ]
  },
  {
   "cell_type": "markdown",
   "metadata": {},
   "source": [
    "# Exercícios obrigatórios"
   ]
  },
  {
   "cell_type": "markdown",
   "metadata": {},
   "source": [
    "# Exercícios opcionais"
   ]
  },
  {
   "cell_type": "markdown",
   "metadata": {},
   "source": [
    "# Exercise 174: Greatest Common Divisor\n",
    "\n",
    "Euclid was a Greek mathematician who lived approximately 2,300 years ago. His\n",
    "algorithm for computing the greatest common divisor of two positive integers, a and\n",
    "b, is both efficient and recursive. It is outlined below:\n",
    "\n",
    "If b is 0 then\n",
    "Return a\n",
    "Else\n",
    "Set c equal to the remainder when a is divided by b\n",
    "Return the greatest common divisor of b and c\n",
    "Write a program that implements Euclid’s algorithm and uses it to determine the\n",
    "greatest common divisor of two integers entered by the user. Test your program with\n",
    "some very large integers. The result will be computed quickly, even for huge numbers\n",
    "consisting of hundreds of digits, because Euclid’s algorithm is extremely efficient."
   ]
  },
  {
   "cell_type": "code",
   "execution_count": 3,
   "metadata": {
    "scrolled": true
   },
   "outputs": [
    {
     "name": "stdout",
     "output_type": "stream",
     "text": [
      "Insira dois valores inteiros separados por espaço: 123485941521 4879451614987\n",
      "O MDC é: 1\n"
     ]
    }
   ],
   "source": [
    "def mdc(a, b):\n",
    "    maior, menor = max(a, b), min(a, b)\n",
    "    resto = maior % menor\n",
    "    if resto == 0:\n",
    "        return menor\n",
    "    return mdc(menor, resto)\n",
    "inp = map(int, input('Insira dois valores inteiros separados por espaço: ').split())\n",
    "print(\"O MDC é:\", mdc(*inp))"
   ]
  },
  {
   "cell_type": "markdown",
   "metadata": {},
   "source": [
    "# Exercise 175: Recursive Decimal to Binary\n",
    "\n",
    "In Exercise 82 you wrote a program that used a loop to convert a decimal number\n",
    "to its binary representation. In this exercise you will perform the same task using\n",
    "recursion.\n",
    "Write a recursive function that converts a non-negative decimal number to binary.\n",
    "Treat 0 and 1 as base cases which return a string containing the appropriate digit. For\n",
    "all other positive integers, n, you should compute the next digit using the remainder\n",
    "operator and then make a recursive call to compute the digits of n // 2. Finally, you\n",
    "should concatenate the result of the recursive call (which will be a string) and the\n",
    "next digit (which you will need to convert to a string) and return this string as the\n",
    "result of the function.\n",
    "Write a main program that uses your recursive function to convert a non-negative\n",
    "integer entered by the user from decimal to binary. Your program should display an\n",
    "appropriate error message if the user enters a negative value."
   ]
  },
  {
   "cell_type": "code",
   "execution_count": 5,
   "metadata": {
    "scrolled": true
   },
   "outputs": [
    {
     "name": "stdout",
     "output_type": "stream",
     "text": [
      "110010\n",
      "100101101011010100100\n",
      "10000000000\n",
      "10\n"
     ]
    }
   ],
   "source": [
    "def dec2bin(n):\n",
    "    quo = n // 2\n",
    "    resto = n % 2\n",
    "    if quo == 0:\n",
    "        return str(resto)\n",
    "    return dec2bin(quo) + str(resto)\n",
    "\n",
    "def main():\n",
    "    print(dec2bin(50))\n",
    "    print(dec2bin(1234596))\n",
    "    print(dec2bin(1024))\n",
    "    print(dec2bin(2))\n",
    "main()"
   ]
  },
  {
   "cell_type": "markdown",
   "metadata": {},
   "source": [
    "# Exercise 176:The NATO Phonetic Alphabet\n",
    "\n",
    "A spelling alphabet is a set of words, each of which stands for one of the 26 letters\n",
    "in the alphabet. While many letters are easily misheard over a low quality or noisy\n",
    "communication channel, the words used to represent the letters in a spelling alphabet\n",
    "are generally chosen so that each sounds distinct and is difficult to confuse with any\n",
    "other. The NATO phonetic alphabet is a widely used spelling alphabet. Each letter\n",
    "and its associated word is shown in Table8.1.\n",
    "Write a program that reads a word from the user and then displays its phonetic\n",
    "spelling. For example, if the user enters Hello then the program should output\n",
    "Hotel Echo Lima Lima Oscar. Your program should use a recursive function to perform this task. Do not use a loop anywhere in your solution. Any non-letter\n",
    "characters entered by the user should be ignored."
   ]
  },
  {
   "cell_type": "code",
   "execution_count": 8,
   "metadata": {
    "scrolled": true
   },
   "outputs": [
    {
     "name": "stdout",
     "output_type": "stream",
     "text": [
      "Insira uma palavra: Hello\n",
      "Hotel Echo Lima Lima Oscar \n"
     ]
    }
   ],
   "source": [
    "import re\n",
    "def convert2nato(string):\n",
    "    string = re.sub(r'\\W', '', string.upper())\n",
    "    nato = {'A':'Alpha', 'B':'Bravo','C':'Charlie', 'D':'Delta', 'E':'Echo', 'F':'Foxtrot', \n",
    "            'G':'Golf',\"H\":\"Hotel\", 'I':'India', 'J':'Juliet', 'K':'Kilo', 'L':'Lima', \n",
    "            'M':'Mike', 'N':'November', 'O':'Oscar', 'P':'Papa', 'Q':'Quebec',\n",
    "            'R':'Romeo', 'S':'Sierra', 'T':'Tango', 'U':'Uniform', 'V':'Victor', \n",
    "            'W':'Whiskey', 'X':'Xray', 'Y':'Yankee', 'Z':'Zulu'}\n",
    "    if not string:\n",
    "        return ''\n",
    "    return nato[string[0]] + ' ' + convert2nato(string[1:])\n",
    "\n",
    "inp = input('Insira uma palavra: ')\n",
    "print(convert2nato(inp))"
   ]
  },
  {
   "cell_type": "markdown",
   "metadata": {},
   "source": [
    "# Exercise 177: Roman Numerals\n",
    "\n",
    "As the name implies, Roman numerals were developed in ancient Rome. Even after\n",
    "the Roman empire fell, its numerals continued to be widely used in Europe until the\n",
    "late middle ages, and its numerals are still used in limited circumstances today.\n",
    "Roman numerals are constructed from the letters M, D, C, L, X, V and I which\n",
    "represent 1000, 500, 100, 50, 10, 5 and 1 respectively. The numerals are generally\n",
    "written from largest value to smallest value. When this occurs the value of the number\n",
    "is the sum of the values of all of its numerals. If a smaller value precedes a larger\n",
    "value then the smaller value is subtracted from the larger value that it immediately\n",
    "precedes, and that difference is added to the value of the number.1\n",
    "Create a recursive function that converts a Roman numeral to an integer. Your\n",
    "function should process one or two characters at the beginning of the string, and\n",
    "then call itself recursively on all of the unprocessed characters. Use an empty string,\n",
    "which has the value 0, for the base case. In addition, write a main program that reads\n",
    "a Roman numeral from the user and displays its value. You can assume that the value\n",
    "entered by the user is valid. Your program does not need to do any error checking."
   ]
  },
  {
   "cell_type": "code",
   "execution_count": 10,
   "metadata": {
    "scrolled": true
   },
   "outputs": [
    {
     "name": "stdout",
     "output_type": "stream",
     "text": [
      "Insira um número romano: IV\n",
      "4\n"
     ]
    }
   ],
   "source": [
    "def roman(s):\n",
    "    base = {\"\": 0, \"M\": 1000, \"D\": 500, \"C\": 100, \"L\": 50, \"X\": 10, \"V\": 5, \"I\": 1}\n",
    "    if s in base:\n",
    "        return base[s]\n",
    "    primeiro, segundo = map(roman, s[:2])\n",
    "    if primeiro < segundo:\n",
    "        return segundo - primeiro + roman(s[2:])\n",
    "    else:\n",
    "        return primeiro + roman(s[1:])\n",
    "print(roman(input(\"Insira um número romano: \")))"
   ]
  },
  {
   "cell_type": "markdown",
   "metadata": {},
   "source": [
    "# Exercise 179: Recursive Square Root\n",
    "\n",
    "Exercise 74 explored how iteration can be used to compute the square root of a\n",
    "number. In that exercise a better approximation of the square root was generated with\n",
    "each additional loop iteration. In this exercise you will use the same approximation\n",
    "strategy, but you will use recursion instead of a loop.\n",
    "Create a square root function with two parameters. The first parameter, n, will\n",
    "be the number for which the square root is being computed. The second parameter,\n",
    "guess, will be the current guess for the square root. The guess parameter should have\n",
    "a default value of 1.0. Do not provide a default value for the first parameter.\n",
    "Your square root function will be recursive. The base case occurs when guess2 is\n",
    "within 10−12 of n. In this case your function should return guess because it is close\n",
    "enough to the square root of n. Otherwise your function should return the result of\n",
    "calling itself recursively with n as the first parameter and\n",
    "guess+ n\n",
    "guess\n",
    "2 as the second\n",
    "parameter.\n",
    "Write a main program that demonstrate your square root function by computing\n",
    "the square root of several different values. When you call your square root function\n",
    "from the main program you should only pass one parameter to it so that the default\n",
    "value is used for guess."
   ]
  },
  {
   "cell_type": "code",
   "execution_count": 11,
   "metadata": {
    "scrolled": true
   },
   "outputs": [
    {
     "name": "stdout",
     "output_type": "stream",
     "text": [
      "1.414213562373095\n",
      "2.000000000000002\n",
      "3.0\n",
      "3.872983346207433\n",
      "31.606961258558215\n"
     ]
    }
   ],
   "source": [
    "def raiz(n, guess=1.0):\n",
    "    if abs(guess * guess - n) < 1e-12:\n",
    "        return guess\n",
    "    return raiz(n, (guess + n/guess)/2)\n",
    "def main():\n",
    "    print(raiz(2))\n",
    "    print(raiz(4))\n",
    "    print(raiz(9))\n",
    "    print(raiz(15))\n",
    "    print(raiz(999))\n",
    "main()"
   ]
  },
  {
   "cell_type": "markdown",
   "metadata": {},
   "source": [
    "# Exercise 181: Possible Change\n",
    "\n",
    "Create a program that determines whether or not it is possible to construct a particular\n",
    "total using a specific number of coins. For example, it is possible to have a total of\n",
    "\\\\$1.00 using four coins if they are all quarters. However, there is no way to have a\n",
    "total of \\\\$1.00 using 5 coins. Yet it is possible to have \\\\$1.00 using 6 coins by using\n",
    "3 quarters, 2 dimes and a nickel. Similarly, a total of \\\\$1.25 can be formed using 5\n",
    "coins or 8 coins, but a total of \\\\$1.25 cannot be formed using 4, 6 or 7 coins.\n",
    "Your program should read both the dollar amount and the number of coins from\n",
    "the user. Then it should display a clear message indicating whether or not the entered\n",
    "dollar amount can be formed using the number of coins indicated. Assume the existence of quarters, dimes, nickels and pennies when completing this problem. Your\n",
    "solution must use recursion. It cannot contain any loops."
   ]
  },
  {
   "cell_type": "code",
   "execution_count": 22,
   "metadata": {
    "scrolled": true
   },
   "outputs": [
    {
     "name": "stdout",
     "output_type": "stream",
     "text": [
      "Valor total: 1.25\n",
      "Quantidade de moedas: 8\n",
      "É possível trocar $1.25 com 8 moedas\n"
     ]
    }
   ],
   "source": [
    "def poss_change(total, ncoins):\n",
    "    if total == 0 and ncoins == 0:\n",
    "        return True\n",
    "    elif total < 0 or ncoins < 0:\n",
    "        return False\n",
    "    return poss_change(total-1, ncoins-1) or\\\n",
    "    poss_change(total-.25, ncoins-1) or\\\n",
    "    poss_change(total-.1, ncoins-1) or\\\n",
    "    poss_change(total-.05, ncoins-1) or\\\n",
    "    poss_change(total-.01, ncoins-1)\n",
    "total = float(input(\"Valor total: \"))\n",
    "moedas = int(input(\"Quantidade de moedas: \"))\n",
    "if poss_change(total, moedas):\n",
    "    print(f\"É possível trocar ${total} com {moedas} moedas.\")\n",
    "else:\n",
    "    print(f\"Não é possível trocar ${total} com {moedas} moedas.\")"
   ]
  },
  {
   "cell_type": "markdown",
   "metadata": {},
   "source": [
    "# Exercise 185: Run-Length Decoding\n",
    "\n",
    "Run-length encoding is a simple data compression technique that can be effective when repeated values occur at adjacent positions within a list. Compression\n",
    "is achieved by replacing groups of repeated values with one copy of the value, followed by the number of times that it should be repeated. For example, the list [\"A\",\n",
    "\"A\", \"A\", \"A\", \"A\", \"A\", \"A\", \"A\", \"A\", \"A\", \"A\", \"A\", \"B\", \"B\",\n",
    "\"B\", \"B\", \"A\", \"A\", \"A\", \"A\", \"A\", \"A\", \"B\"] would be compressed as\n",
    "[\"A\", 12, \"B\", 4, \"A\", 6, \"B\", 1]. Decompression is performed by replicating each value in the list the number of times indicated.\n",
    "\n",
    "Write a recursive function that decompresses a run-length encoded list. Your\n",
    "recursive function will take a run-length compressed list as its only argument. It will\n",
    "return the decompressed list as its only result. Create a main program that displays\n",
    "a run-length encoded list and the result of decoding it."
   ]
  },
  {
   "cell_type": "code",
   "execution_count": 28,
   "metadata": {},
   "outputs": [
    {
     "name": "stdout",
     "output_type": "stream",
     "text": [
      "['A', 'A', 'A', 'A', 'A', 'A', 'A', 'A', 'A', 'A', 'A', 'A', 'B', 'B', 'B', 'B', 'A', 'A', 'A', 'A', 'A', 'A', 'B']\n",
      "['A', 'A', 'B', 'A', 'A', 'B']\n",
      "['A', 'A', 'B', 'A', 'A', 'B']\n"
     ]
    }
   ],
   "source": [
    "def decomp(lista):\n",
    "    if not lista: return []\n",
    "    return [lista[0]] * int(lista[1]) + decomp(lista[2:])\n",
    "def main():\n",
    "    print(decomp([\"A\", 12, \"B\", 4, \"A\", 6, \"B\", 1]))\n",
    "    print(decomp([\"A\", 2, \"B\", 1, \"A\", 2, \"B\", 1]))\n",
    "    print(decomp(\"A2B1A2B1\"))\n",
    "main()"
   ]
  }
 ],
 "metadata": {
  "kernelspec": {
   "display_name": "Python 3",
   "language": "python",
   "name": "python3"
  },
  "language_info": {
   "codemirror_mode": {
    "name": "ipython",
    "version": 3
   },
   "file_extension": ".py",
   "mimetype": "text/x-python",
   "name": "python",
   "nbconvert_exporter": "python",
   "pygments_lexer": "ipython3",
   "version": "3.8.5"
  }
 },
 "nbformat": 4,
 "nbformat_minor": 4
}
